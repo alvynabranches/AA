{
 "cells": [
  {
   "cell_type": "code",
   "execution_count": 1,
   "metadata": {},
   "outputs": [],
   "source": [
    "from __future__ import print_function\n",
    "import pickle\n",
    "import os.path\n",
    "from googleapiclient.discovery import build\n",
    "from google_auth_oauthlib.flow import InstalledAppFlow\n",
    "from google.auth.transport.requests import Request"
   ]
  },
  {
   "cell_type": "code",
   "execution_count": null,
   "metadata": {},
   "outputs": [],
   "source": [
    "file_id = 1ifL1poO_Kcfng9pWM3WE9MOQFUV_kv_52U07ttVrZOI"
   ]
  },
  {
   "cell_type": "code",
   "execution_count": 5,
   "metadata": {},
   "outputs": [
    {
     "name": "stdout",
     "output_type": "stream",
     "text": [
      "Please visit this URL to authorize this application: https://accounts.google.com/o/oauth2/auth?response_type=code&client_id=426881975629-rf4p45slijkihkbtfthoctsbhmjdkhis.apps.googleusercontent.com&redirect_uri=http%3A%2F%2Flocalhost%3A53472%2F&scope=https%3A%2F%2Fwww.googleapis.com%2Fauth%2Fdrive.metadata.readonly&state=kPjXbfCwiULXjjcMejmFdNDdNcXi4d&access_type=offline\n",
      "Files:\n",
      "Power BI Assignment 1 (Responses) (12RnjVmuMESyDBzsbG3d-sLLJSHi4EwZ6YoAwQJMCVMU)\n",
      "MongoDB Assignment 2 (Responses) (1nD4e0xqVyFepXn_Ybzot_zK_4CX4r-0DhGFNheBtawY)\n",
      "Hadoop Assignment 1 (Responses) (1ifL1poO_Kcfng9pWM3WE9MOQFUV_kv_52U07ttVrZOI)\n",
      "MongoDB Assignment 2 - Bhalchandra Kolekar.docx (1uDQLtRQ0YJUZ6c1RumLCSuRxiHSxM9P_)\n",
      "Power BI Assign1 - Bhalchandra Kolekar.docx (1F7WVwC8fTkimp5OhubtbtG8RY8Sd7LAP)\n",
      "MongodbAssignment - Kajan Sarangthem.pdf (1q3eBMiSTvB3yR7rje1JphTn9c7UjDm1c)\n",
      "Assign-1 - Purva Kirad.pdf (1uqzO7Xyb4iuMYEjK0WfDs6dc0grqYNwa)\n",
      "Machine Learning Lab Assignment 1 (Responses) (1c7Qytv1a39S9WuAc9UI7pmj9xNz_DNYz3_raIu8mWa8)\n",
      "ass 1 - Swati Baviskar.docx (1c9-azKXJY5OZBPUlVo1Cn80Ym2uYXww2)\n",
      "bi assignment1 - Chanchal Dubey.docx (1CBsAABk96IZqkwAm0vNevF-COqMxQDK7)\n"
     ]
    }
   ],
   "source": [
    "# If modifying these scopes, delete the file token.pickle.\n",
    "SCOPES = ['https://www.googleapis.com/auth/drive.metadata.readonly']\n",
    "\n",
    "def main():\n",
    "    \"\"\"Shows basic usage of the Drive v3 API.\n",
    "    Prints the names and ids of the first 10 files the user has access to.\n",
    "    \"\"\"\n",
    "    creds = None\n",
    "    # The file token.pickle stores the user's access and refresh tokens, and is\n",
    "    # created automatically when the authorization flow completes for the first\n",
    "    # time.\n",
    "    if os.path.exists('token.pickle'):\n",
    "        with open('token.pickle', 'rb') as token:\n",
    "            creds = pickle.load(token)\n",
    "    # If there are no (valid) credentials available, let the user log in.\n",
    "    if not creds or not creds.valid:\n",
    "        if creds and creds.expired and creds.refresh_token:\n",
    "            creds.refresh(Request())\n",
    "        else:\n",
    "            flow = InstalledAppFlow.from_client_secrets_file(\n",
    "                'credentials.json', SCOPES)\n",
    "            creds = flow.run_local_server(port=0)\n",
    "        # Save the credentials for the next run\n",
    "        with open('token.pickle', 'wb') as token:\n",
    "            pickle.dump(creds, token)\n",
    "\n",
    "    service = build('drive', 'v3', credentials=creds)\n",
    "\n",
    "    # Call the Drive v3 API\n",
    "    results = service.files().list(\n",
    "        pageSize=10, fields=\"nextPageToken, files(id, name)\").execute()\n",
    "    items = results.get('files', [])\n",
    "\n",
    "    if not items:\n",
    "        print('No files found.')\n",
    "    else:\n",
    "        print('Files:')\n",
    "        for item in items:\n",
    "            print(u'{0} ({1})'.format(item['name'], item['id']))\n",
    "\n",
    "if __name__ == '__main__':\n",
    "    main()"
   ]
  },
  {
   "cell_type": "code",
   "execution_count": null,
   "metadata": {},
   "outputs": [],
   "source": []
  }
 ],
 "metadata": {
  "kernelspec": {
   "display_name": "Python 3",
   "language": "python",
   "name": "python3"
  },
  "language_info": {
   "codemirror_mode": {
    "name": "ipython",
    "version": 3
   },
   "file_extension": ".py",
   "mimetype": "text/x-python",
   "name": "python",
   "nbconvert_exporter": "python",
   "pygments_lexer": "ipython3",
   "version": "3.7.3"
  }
 },
 "nbformat": 4,
 "nbformat_minor": 2
}
